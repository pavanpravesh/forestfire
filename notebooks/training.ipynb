{
 "cells": [
  {
   "cell_type": "code",
   "execution_count": 34,
   "metadata": {},
   "outputs": [],
   "source": [
    "import pandas as pd\n",
    "import numpy as np\n",
    "import matplotlib.pyplot as plt\n",
    "import seaborn as sns\n",
    "%matplotlib inline"
   ]
  },
  {
   "cell_type": "code",
   "execution_count": 35,
   "metadata": {},
   "outputs": [],
   "source": [
    "df = pd.read_csv('Algerian_cleaned.csv')"
   ]
  },
  {
   "cell_type": "code",
   "execution_count": 36,
   "metadata": {},
   "outputs": [
    {
     "data": {
      "text/html": [
       "<div>\n",
       "<style scoped>\n",
       "    .dataframe tbody tr th:only-of-type {\n",
       "        vertical-align: middle;\n",
       "    }\n",
       "\n",
       "    .dataframe tbody tr th {\n",
       "        vertical-align: top;\n",
       "    }\n",
       "\n",
       "    .dataframe thead th {\n",
       "        text-align: right;\n",
       "    }\n",
       "</style>\n",
       "<table border=\"1\" class=\"dataframe\">\n",
       "  <thead>\n",
       "    <tr style=\"text-align: right;\">\n",
       "      <th></th>\n",
       "      <th>day</th>\n",
       "      <th>month</th>\n",
       "      <th>year</th>\n",
       "      <th>Temperature</th>\n",
       "      <th>RH</th>\n",
       "      <th>Ws</th>\n",
       "      <th>Rain</th>\n",
       "      <th>FFMC</th>\n",
       "      <th>DMC</th>\n",
       "      <th>DC</th>\n",
       "      <th>ISI</th>\n",
       "      <th>BUI</th>\n",
       "      <th>FWI</th>\n",
       "      <th>Classes</th>\n",
       "      <th>Region</th>\n",
       "    </tr>\n",
       "  </thead>\n",
       "  <tbody>\n",
       "    <tr>\n",
       "      <th>0</th>\n",
       "      <td>1</td>\n",
       "      <td>6</td>\n",
       "      <td>2012</td>\n",
       "      <td>29</td>\n",
       "      <td>57</td>\n",
       "      <td>18</td>\n",
       "      <td>0.0</td>\n",
       "      <td>65.7</td>\n",
       "      <td>3.4</td>\n",
       "      <td>7.6</td>\n",
       "      <td>1.3</td>\n",
       "      <td>3.4</td>\n",
       "      <td>0.5</td>\n",
       "      <td>not fire</td>\n",
       "      <td>0.0</td>\n",
       "    </tr>\n",
       "    <tr>\n",
       "      <th>1</th>\n",
       "      <td>2</td>\n",
       "      <td>6</td>\n",
       "      <td>2012</td>\n",
       "      <td>29</td>\n",
       "      <td>61</td>\n",
       "      <td>13</td>\n",
       "      <td>1.3</td>\n",
       "      <td>64.4</td>\n",
       "      <td>4.1</td>\n",
       "      <td>7.6</td>\n",
       "      <td>1.0</td>\n",
       "      <td>3.9</td>\n",
       "      <td>0.4</td>\n",
       "      <td>not fire</td>\n",
       "      <td>0.0</td>\n",
       "    </tr>\n",
       "    <tr>\n",
       "      <th>2</th>\n",
       "      <td>3</td>\n",
       "      <td>6</td>\n",
       "      <td>2012</td>\n",
       "      <td>26</td>\n",
       "      <td>82</td>\n",
       "      <td>22</td>\n",
       "      <td>13.1</td>\n",
       "      <td>47.1</td>\n",
       "      <td>2.5</td>\n",
       "      <td>7.1</td>\n",
       "      <td>0.3</td>\n",
       "      <td>2.7</td>\n",
       "      <td>0.1</td>\n",
       "      <td>not fire</td>\n",
       "      <td>0.0</td>\n",
       "    </tr>\n",
       "    <tr>\n",
       "      <th>3</th>\n",
       "      <td>4</td>\n",
       "      <td>6</td>\n",
       "      <td>2012</td>\n",
       "      <td>25</td>\n",
       "      <td>89</td>\n",
       "      <td>13</td>\n",
       "      <td>2.5</td>\n",
       "      <td>28.6</td>\n",
       "      <td>1.3</td>\n",
       "      <td>6.9</td>\n",
       "      <td>0.0</td>\n",
       "      <td>1.7</td>\n",
       "      <td>0.0</td>\n",
       "      <td>not fire</td>\n",
       "      <td>0.0</td>\n",
       "    </tr>\n",
       "    <tr>\n",
       "      <th>4</th>\n",
       "      <td>5</td>\n",
       "      <td>6</td>\n",
       "      <td>2012</td>\n",
       "      <td>27</td>\n",
       "      <td>77</td>\n",
       "      <td>16</td>\n",
       "      <td>0.0</td>\n",
       "      <td>64.8</td>\n",
       "      <td>3.0</td>\n",
       "      <td>14.2</td>\n",
       "      <td>1.2</td>\n",
       "      <td>3.9</td>\n",
       "      <td>0.5</td>\n",
       "      <td>not fire</td>\n",
       "      <td>0.0</td>\n",
       "    </tr>\n",
       "    <tr>\n",
       "      <th>...</th>\n",
       "      <td>...</td>\n",
       "      <td>...</td>\n",
       "      <td>...</td>\n",
       "      <td>...</td>\n",
       "      <td>...</td>\n",
       "      <td>...</td>\n",
       "      <td>...</td>\n",
       "      <td>...</td>\n",
       "      <td>...</td>\n",
       "      <td>...</td>\n",
       "      <td>...</td>\n",
       "      <td>...</td>\n",
       "      <td>...</td>\n",
       "      <td>...</td>\n",
       "      <td>...</td>\n",
       "    </tr>\n",
       "    <tr>\n",
       "      <th>237</th>\n",
       "      <td>26</td>\n",
       "      <td>9</td>\n",
       "      <td>2012</td>\n",
       "      <td>30</td>\n",
       "      <td>65</td>\n",
       "      <td>14</td>\n",
       "      <td>0.0</td>\n",
       "      <td>85.4</td>\n",
       "      <td>16.0</td>\n",
       "      <td>44.5</td>\n",
       "      <td>4.5</td>\n",
       "      <td>16.9</td>\n",
       "      <td>6.5</td>\n",
       "      <td>fire</td>\n",
       "      <td>1.0</td>\n",
       "    </tr>\n",
       "    <tr>\n",
       "      <th>238</th>\n",
       "      <td>27</td>\n",
       "      <td>9</td>\n",
       "      <td>2012</td>\n",
       "      <td>28</td>\n",
       "      <td>87</td>\n",
       "      <td>15</td>\n",
       "      <td>4.4</td>\n",
       "      <td>41.1</td>\n",
       "      <td>6.5</td>\n",
       "      <td>8.0</td>\n",
       "      <td>0.1</td>\n",
       "      <td>6.2</td>\n",
       "      <td>0.0</td>\n",
       "      <td>not fire</td>\n",
       "      <td>1.0</td>\n",
       "    </tr>\n",
       "    <tr>\n",
       "      <th>239</th>\n",
       "      <td>28</td>\n",
       "      <td>9</td>\n",
       "      <td>2012</td>\n",
       "      <td>27</td>\n",
       "      <td>87</td>\n",
       "      <td>29</td>\n",
       "      <td>0.5</td>\n",
       "      <td>45.9</td>\n",
       "      <td>3.5</td>\n",
       "      <td>7.9</td>\n",
       "      <td>0.4</td>\n",
       "      <td>3.4</td>\n",
       "      <td>0.2</td>\n",
       "      <td>not fire</td>\n",
       "      <td>1.0</td>\n",
       "    </tr>\n",
       "    <tr>\n",
       "      <th>240</th>\n",
       "      <td>29</td>\n",
       "      <td>9</td>\n",
       "      <td>2012</td>\n",
       "      <td>24</td>\n",
       "      <td>54</td>\n",
       "      <td>18</td>\n",
       "      <td>0.1</td>\n",
       "      <td>79.7</td>\n",
       "      <td>4.3</td>\n",
       "      <td>15.2</td>\n",
       "      <td>1.7</td>\n",
       "      <td>5.1</td>\n",
       "      <td>0.7</td>\n",
       "      <td>not fire</td>\n",
       "      <td>1.0</td>\n",
       "    </tr>\n",
       "    <tr>\n",
       "      <th>241</th>\n",
       "      <td>30</td>\n",
       "      <td>9</td>\n",
       "      <td>2012</td>\n",
       "      <td>24</td>\n",
       "      <td>64</td>\n",
       "      <td>15</td>\n",
       "      <td>0.2</td>\n",
       "      <td>67.3</td>\n",
       "      <td>3.8</td>\n",
       "      <td>16.5</td>\n",
       "      <td>1.2</td>\n",
       "      <td>4.8</td>\n",
       "      <td>0.5</td>\n",
       "      <td>not fire</td>\n",
       "      <td>1.0</td>\n",
       "    </tr>\n",
       "  </tbody>\n",
       "</table>\n",
       "<p>242 rows × 15 columns</p>\n",
       "</div>"
      ],
      "text/plain": [
       "     day  month  year  Temperature  RH  Ws  Rain  FFMC   DMC    DC  ISI   BUI  \\\n",
       "0      1      6  2012           29  57  18   0.0  65.7   3.4   7.6  1.3   3.4   \n",
       "1      2      6  2012           29  61  13   1.3  64.4   4.1   7.6  1.0   3.9   \n",
       "2      3      6  2012           26  82  22  13.1  47.1   2.5   7.1  0.3   2.7   \n",
       "3      4      6  2012           25  89  13   2.5  28.6   1.3   6.9  0.0   1.7   \n",
       "4      5      6  2012           27  77  16   0.0  64.8   3.0  14.2  1.2   3.9   \n",
       "..   ...    ...   ...          ...  ..  ..   ...   ...   ...   ...  ...   ...   \n",
       "237   26      9  2012           30  65  14   0.0  85.4  16.0  44.5  4.5  16.9   \n",
       "238   27      9  2012           28  87  15   4.4  41.1   6.5   8.0  0.1   6.2   \n",
       "239   28      9  2012           27  87  29   0.5  45.9   3.5   7.9  0.4   3.4   \n",
       "240   29      9  2012           24  54  18   0.1  79.7   4.3  15.2  1.7   5.1   \n",
       "241   30      9  2012           24  64  15   0.2  67.3   3.8  16.5  1.2   4.8   \n",
       "\n",
       "     FWI       Classes  Region  \n",
       "0    0.5   not fire        0.0  \n",
       "1    0.4   not fire        0.0  \n",
       "2    0.1   not fire        0.0  \n",
       "3    0.0   not fire        0.0  \n",
       "4    0.5   not fire        0.0  \n",
       "..   ...           ...     ...  \n",
       "237  6.5       fire        1.0  \n",
       "238  0.0   not fire        1.0  \n",
       "239  0.2   not fire        1.0  \n",
       "240  0.7   not fire        1.0  \n",
       "241  0.5  not fire         1.0  \n",
       "\n",
       "[242 rows x 15 columns]"
      ]
     },
     "execution_count": 36,
     "metadata": {},
     "output_type": "execute_result"
    }
   ],
   "source": [
    "df"
   ]
  },
  {
   "cell_type": "code",
   "execution_count": 37,
   "metadata": {},
   "outputs": [
    {
     "data": {
      "text/plain": [
       "Index(['day', 'month', 'year', 'Temperature', 'RH', 'Ws', 'Rain', 'FFMC',\n",
       "       'DMC', 'DC', 'ISI', 'BUI', 'FWI', 'Classes', 'Region'],\n",
       "      dtype='object')"
      ]
     },
     "execution_count": 37,
     "metadata": {},
     "output_type": "execute_result"
    }
   ],
   "source": [
    "df.columns"
   ]
  },
  {
   "cell_type": "code",
   "execution_count": 38,
   "metadata": {},
   "outputs": [],
   "source": [
    "df = df.drop(['day','month', 'year'],axis=1)"
   ]
  },
  {
   "cell_type": "code",
   "execution_count": 39,
   "metadata": {},
   "outputs": [
    {
     "data": {
      "text/html": [
       "<div>\n",
       "<style scoped>\n",
       "    .dataframe tbody tr th:only-of-type {\n",
       "        vertical-align: middle;\n",
       "    }\n",
       "\n",
       "    .dataframe tbody tr th {\n",
       "        vertical-align: top;\n",
       "    }\n",
       "\n",
       "    .dataframe thead th {\n",
       "        text-align: right;\n",
       "    }\n",
       "</style>\n",
       "<table border=\"1\" class=\"dataframe\">\n",
       "  <thead>\n",
       "    <tr style=\"text-align: right;\">\n",
       "      <th></th>\n",
       "      <th>Temperature</th>\n",
       "      <th>RH</th>\n",
       "      <th>Ws</th>\n",
       "      <th>Rain</th>\n",
       "      <th>FFMC</th>\n",
       "      <th>DMC</th>\n",
       "      <th>DC</th>\n",
       "      <th>ISI</th>\n",
       "      <th>BUI</th>\n",
       "      <th>FWI</th>\n",
       "      <th>Classes</th>\n",
       "      <th>Region</th>\n",
       "    </tr>\n",
       "  </thead>\n",
       "  <tbody>\n",
       "    <tr>\n",
       "      <th>0</th>\n",
       "      <td>29</td>\n",
       "      <td>57</td>\n",
       "      <td>18</td>\n",
       "      <td>0.0</td>\n",
       "      <td>65.7</td>\n",
       "      <td>3.4</td>\n",
       "      <td>7.6</td>\n",
       "      <td>1.3</td>\n",
       "      <td>3.4</td>\n",
       "      <td>0.5</td>\n",
       "      <td>not fire</td>\n",
       "      <td>0.0</td>\n",
       "    </tr>\n",
       "    <tr>\n",
       "      <th>1</th>\n",
       "      <td>29</td>\n",
       "      <td>61</td>\n",
       "      <td>13</td>\n",
       "      <td>1.3</td>\n",
       "      <td>64.4</td>\n",
       "      <td>4.1</td>\n",
       "      <td>7.6</td>\n",
       "      <td>1.0</td>\n",
       "      <td>3.9</td>\n",
       "      <td>0.4</td>\n",
       "      <td>not fire</td>\n",
       "      <td>0.0</td>\n",
       "    </tr>\n",
       "    <tr>\n",
       "      <th>2</th>\n",
       "      <td>26</td>\n",
       "      <td>82</td>\n",
       "      <td>22</td>\n",
       "      <td>13.1</td>\n",
       "      <td>47.1</td>\n",
       "      <td>2.5</td>\n",
       "      <td>7.1</td>\n",
       "      <td>0.3</td>\n",
       "      <td>2.7</td>\n",
       "      <td>0.1</td>\n",
       "      <td>not fire</td>\n",
       "      <td>0.0</td>\n",
       "    </tr>\n",
       "    <tr>\n",
       "      <th>3</th>\n",
       "      <td>25</td>\n",
       "      <td>89</td>\n",
       "      <td>13</td>\n",
       "      <td>2.5</td>\n",
       "      <td>28.6</td>\n",
       "      <td>1.3</td>\n",
       "      <td>6.9</td>\n",
       "      <td>0.0</td>\n",
       "      <td>1.7</td>\n",
       "      <td>0.0</td>\n",
       "      <td>not fire</td>\n",
       "      <td>0.0</td>\n",
       "    </tr>\n",
       "    <tr>\n",
       "      <th>4</th>\n",
       "      <td>27</td>\n",
       "      <td>77</td>\n",
       "      <td>16</td>\n",
       "      <td>0.0</td>\n",
       "      <td>64.8</td>\n",
       "      <td>3.0</td>\n",
       "      <td>14.2</td>\n",
       "      <td>1.2</td>\n",
       "      <td>3.9</td>\n",
       "      <td>0.5</td>\n",
       "      <td>not fire</td>\n",
       "      <td>0.0</td>\n",
       "    </tr>\n",
       "  </tbody>\n",
       "</table>\n",
       "</div>"
      ],
      "text/plain": [
       "   Temperature  RH  Ws  Rain  FFMC  DMC    DC  ISI  BUI  FWI      Classes  \\\n",
       "0           29  57  18   0.0  65.7  3.4   7.6  1.3  3.4  0.5  not fire      \n",
       "1           29  61  13   1.3  64.4  4.1   7.6  1.0  3.9  0.4  not fire      \n",
       "2           26  82  22  13.1  47.1  2.5   7.1  0.3  2.7  0.1  not fire      \n",
       "3           25  89  13   2.5  28.6  1.3   6.9  0.0  1.7  0.0  not fire      \n",
       "4           27  77  16   0.0  64.8  3.0  14.2  1.2  3.9  0.5  not fire      \n",
       "\n",
       "   Region  \n",
       "0     0.0  \n",
       "1     0.0  \n",
       "2     0.0  \n",
       "3     0.0  \n",
       "4     0.0  "
      ]
     },
     "execution_count": 39,
     "metadata": {},
     "output_type": "execute_result"
    }
   ],
   "source": [
    "df.head()"
   ]
  },
  {
   "cell_type": "code",
   "execution_count": 40,
   "metadata": {},
   "outputs": [
    {
     "data": {
      "text/plain": [
       "Classes\n",
       "fire             130\n",
       "not fire         101\n",
       "fire               4\n",
       "fire               2\n",
       "not fire           2\n",
       "not fire           1\n",
       "not fire           1\n",
       "not fire           1\n",
       "Name: count, dtype: int64"
      ]
     },
     "execution_count": 40,
     "metadata": {},
     "output_type": "execute_result"
    }
   ],
   "source": [
    "df['Classes'].value_counts()"
   ]
  },
  {
   "cell_type": "code",
   "execution_count": 41,
   "metadata": {},
   "outputs": [],
   "source": [
    "df['Classes'] = np.where(df['Classes'].str.contains('not fire'),0,1)"
   ]
  },
  {
   "cell_type": "code",
   "execution_count": 42,
   "metadata": {},
   "outputs": [],
   "source": [
    "#independent and dependent features\n",
    "X = df.drop(['FWI'],axis=1)\n",
    "y = df['FWI']"
   ]
  },
  {
   "cell_type": "code",
   "execution_count": 43,
   "metadata": {},
   "outputs": [],
   "source": [
    "#train test split\n",
    "from sklearn.model_selection import train_test_split\n",
    "\n",
    "X_train,X_test,y_train,y_test = train_test_split(X,y,test_size=0.25,random_state=40)"
   ]
  },
  {
   "cell_type": "code",
   "execution_count": 44,
   "metadata": {},
   "outputs": [
    {
     "data": {
      "text/html": [
       "<div>\n",
       "<style scoped>\n",
       "    .dataframe tbody tr th:only-of-type {\n",
       "        vertical-align: middle;\n",
       "    }\n",
       "\n",
       "    .dataframe tbody tr th {\n",
       "        vertical-align: top;\n",
       "    }\n",
       "\n",
       "    .dataframe thead th {\n",
       "        text-align: right;\n",
       "    }\n",
       "</style>\n",
       "<table border=\"1\" class=\"dataframe\">\n",
       "  <thead>\n",
       "    <tr style=\"text-align: right;\">\n",
       "      <th></th>\n",
       "      <th>Temperature</th>\n",
       "      <th>RH</th>\n",
       "      <th>Ws</th>\n",
       "      <th>Rain</th>\n",
       "      <th>FFMC</th>\n",
       "      <th>DMC</th>\n",
       "      <th>DC</th>\n",
       "      <th>ISI</th>\n",
       "      <th>BUI</th>\n",
       "      <th>Classes</th>\n",
       "      <th>Region</th>\n",
       "    </tr>\n",
       "  </thead>\n",
       "  <tbody>\n",
       "    <tr>\n",
       "      <th>Temperature</th>\n",
       "      <td>1.000000</td>\n",
       "      <td>-0.633541</td>\n",
       "      <td>-0.326753</td>\n",
       "      <td>-0.326158</td>\n",
       "      <td>0.670991</td>\n",
       "      <td>0.500539</td>\n",
       "      <td>0.414435</td>\n",
       "      <td>0.582288</td>\n",
       "      <td>0.481162</td>\n",
       "      <td>0.534204</td>\n",
       "      <td>0.228602</td>\n",
       "    </tr>\n",
       "    <tr>\n",
       "      <th>RH</th>\n",
       "      <td>-0.633541</td>\n",
       "      <td>1.000000</td>\n",
       "      <td>0.244618</td>\n",
       "      <td>0.246809</td>\n",
       "      <td>-0.693967</td>\n",
       "      <td>-0.408694</td>\n",
       "      <td>-0.242503</td>\n",
       "      <td>-0.701701</td>\n",
       "      <td>-0.355504</td>\n",
       "      <td>-0.495133</td>\n",
       "      <td>-0.378845</td>\n",
       "    </tr>\n",
       "    <tr>\n",
       "      <th>Ws</th>\n",
       "      <td>-0.326753</td>\n",
       "      <td>0.244618</td>\n",
       "      <td>1.000000</td>\n",
       "      <td>0.276774</td>\n",
       "      <td>-0.238579</td>\n",
       "      <td>-0.022850</td>\n",
       "      <td>0.062691</td>\n",
       "      <td>-0.029080</td>\n",
       "      <td>0.007223</td>\n",
       "      <td>-0.123133</td>\n",
       "      <td>-0.155481</td>\n",
       "    </tr>\n",
       "    <tr>\n",
       "      <th>Rain</th>\n",
       "      <td>-0.326158</td>\n",
       "      <td>0.246809</td>\n",
       "      <td>0.276774</td>\n",
       "      <td>1.000000</td>\n",
       "      <td>-0.511201</td>\n",
       "      <td>-0.282580</td>\n",
       "      <td>-0.295887</td>\n",
       "      <td>-0.341425</td>\n",
       "      <td>-0.291974</td>\n",
       "      <td>-0.368007</td>\n",
       "      <td>-0.043786</td>\n",
       "    </tr>\n",
       "    <tr>\n",
       "      <th>FFMC</th>\n",
       "      <td>0.670991</td>\n",
       "      <td>-0.693967</td>\n",
       "      <td>-0.238579</td>\n",
       "      <td>-0.511201</td>\n",
       "      <td>1.000000</td>\n",
       "      <td>0.619501</td>\n",
       "      <td>0.529373</td>\n",
       "      <td>0.754530</td>\n",
       "      <td>0.603862</td>\n",
       "      <td>0.789353</td>\n",
       "      <td>0.198544</td>\n",
       "    </tr>\n",
       "    <tr>\n",
       "      <th>DMC</th>\n",
       "      <td>0.500539</td>\n",
       "      <td>-0.408694</td>\n",
       "      <td>-0.022850</td>\n",
       "      <td>-0.282580</td>\n",
       "      <td>0.619501</td>\n",
       "      <td>1.000000</td>\n",
       "      <td>0.889846</td>\n",
       "      <td>0.688626</td>\n",
       "      <td>0.984868</td>\n",
       "      <td>0.619744</td>\n",
       "      <td>0.156165</td>\n",
       "    </tr>\n",
       "    <tr>\n",
       "      <th>DC</th>\n",
       "      <td>0.414435</td>\n",
       "      <td>-0.242503</td>\n",
       "      <td>0.062691</td>\n",
       "      <td>-0.295887</td>\n",
       "      <td>0.529373</td>\n",
       "      <td>0.889846</td>\n",
       "      <td>1.000000</td>\n",
       "      <td>0.527027</td>\n",
       "      <td>0.953548</td>\n",
       "      <td>0.546587</td>\n",
       "      <td>-0.102753</td>\n",
       "    </tr>\n",
       "    <tr>\n",
       "      <th>ISI</th>\n",
       "      <td>0.582288</td>\n",
       "      <td>-0.701701</td>\n",
       "      <td>-0.029080</td>\n",
       "      <td>-0.341425</td>\n",
       "      <td>0.754530</td>\n",
       "      <td>0.688626</td>\n",
       "      <td>0.527027</td>\n",
       "      <td>1.000000</td>\n",
       "      <td>0.646297</td>\n",
       "      <td>0.758914</td>\n",
       "      <td>0.259261</td>\n",
       "    </tr>\n",
       "    <tr>\n",
       "      <th>BUI</th>\n",
       "      <td>0.481162</td>\n",
       "      <td>-0.355504</td>\n",
       "      <td>0.007223</td>\n",
       "      <td>-0.291974</td>\n",
       "      <td>0.603862</td>\n",
       "      <td>0.984868</td>\n",
       "      <td>0.953548</td>\n",
       "      <td>0.646297</td>\n",
       "      <td>1.000000</td>\n",
       "      <td>0.610445</td>\n",
       "      <td>0.057806</td>\n",
       "    </tr>\n",
       "    <tr>\n",
       "      <th>Classes</th>\n",
       "      <td>0.534204</td>\n",
       "      <td>-0.495133</td>\n",
       "      <td>-0.123133</td>\n",
       "      <td>-0.368007</td>\n",
       "      <td>0.789353</td>\n",
       "      <td>0.619744</td>\n",
       "      <td>0.546587</td>\n",
       "      <td>0.758914</td>\n",
       "      <td>0.610445</td>\n",
       "      <td>1.000000</td>\n",
       "      <td>0.179270</td>\n",
       "    </tr>\n",
       "    <tr>\n",
       "      <th>Region</th>\n",
       "      <td>0.228602</td>\n",
       "      <td>-0.378845</td>\n",
       "      <td>-0.155481</td>\n",
       "      <td>-0.043786</td>\n",
       "      <td>0.198544</td>\n",
       "      <td>0.156165</td>\n",
       "      <td>-0.102753</td>\n",
       "      <td>0.259261</td>\n",
       "      <td>0.057806</td>\n",
       "      <td>0.179270</td>\n",
       "      <td>1.000000</td>\n",
       "    </tr>\n",
       "  </tbody>\n",
       "</table>\n",
       "</div>"
      ],
      "text/plain": [
       "             Temperature        RH        Ws      Rain      FFMC       DMC  \\\n",
       "Temperature     1.000000 -0.633541 -0.326753 -0.326158  0.670991  0.500539   \n",
       "RH             -0.633541  1.000000  0.244618  0.246809 -0.693967 -0.408694   \n",
       "Ws             -0.326753  0.244618  1.000000  0.276774 -0.238579 -0.022850   \n",
       "Rain           -0.326158  0.246809  0.276774  1.000000 -0.511201 -0.282580   \n",
       "FFMC            0.670991 -0.693967 -0.238579 -0.511201  1.000000  0.619501   \n",
       "DMC             0.500539 -0.408694 -0.022850 -0.282580  0.619501  1.000000   \n",
       "DC              0.414435 -0.242503  0.062691 -0.295887  0.529373  0.889846   \n",
       "ISI             0.582288 -0.701701 -0.029080 -0.341425  0.754530  0.688626   \n",
       "BUI             0.481162 -0.355504  0.007223 -0.291974  0.603862  0.984868   \n",
       "Classes         0.534204 -0.495133 -0.123133 -0.368007  0.789353  0.619744   \n",
       "Region          0.228602 -0.378845 -0.155481 -0.043786  0.198544  0.156165   \n",
       "\n",
       "                   DC       ISI       BUI   Classes    Region  \n",
       "Temperature  0.414435  0.582288  0.481162  0.534204  0.228602  \n",
       "RH          -0.242503 -0.701701 -0.355504 -0.495133 -0.378845  \n",
       "Ws           0.062691 -0.029080  0.007223 -0.123133 -0.155481  \n",
       "Rain        -0.295887 -0.341425 -0.291974 -0.368007 -0.043786  \n",
       "FFMC         0.529373  0.754530  0.603862  0.789353  0.198544  \n",
       "DMC          0.889846  0.688626  0.984868  0.619744  0.156165  \n",
       "DC           1.000000  0.527027  0.953548  0.546587 -0.102753  \n",
       "ISI          0.527027  1.000000  0.646297  0.758914  0.259261  \n",
       "BUI          0.953548  0.646297  1.000000  0.610445  0.057806  \n",
       "Classes      0.546587  0.758914  0.610445  1.000000  0.179270  \n",
       "Region      -0.102753  0.259261  0.057806  0.179270  1.000000  "
      ]
     },
     "execution_count": 44,
     "metadata": {},
     "output_type": "execute_result"
    }
   ],
   "source": [
    "##Fearure selection based on Co-relation\n",
    "X_train.corr()"
   ]
  },
  {
   "cell_type": "code",
   "execution_count": 45,
   "metadata": {},
   "outputs": [
    {
     "data": {
      "text/plain": [
       "<Axes: >"
      ]
     },
     "execution_count": 45,
     "metadata": {},
     "output_type": "execute_result"
    },
    {
     "data": {
      "image/png": "[encoded data removed]",
      "text/plain": [
       "<Figure size 1200x1000 with 2 Axes>"
      ]
     },
     "metadata": {},
     "output_type": "display_data"
    }
   ],
   "source": [
    "plt.figure(figsize=(12,10))\n",
    "corr = X_train.corr()\n",
    "sns.heatmap(corr,annot=True)"
   ]
  },
  {
   "cell_type": "code",
   "execution_count": 46,
   "metadata": {},
   "outputs": [],
   "source": [
    "def correlation(dataset,threshold):\n",
    "    col_corr = set()\n",
    "    corr_matrix = dataset.corr()\n",
    "    for i in range(len(corr_matrix.columns)):\n",
    "        for j in range(i):\n",
    "            if abs(corr_matrix.iloc[i,j]) > threshold:\n",
    "                colname = corr_matrix.columns[i]\n",
    "                col_corr.add(colname)\n",
    "    return col_corr"
   ]
  },
  {
   "cell_type": "code",
   "execution_count": 47,
   "metadata": {},
   "outputs": [],
   "source": [
    "##threshold -- Domain Expert\n",
    "corr_features = correlation(X_train,0.85)"
   ]
  },
  {
   "cell_type": "code",
   "execution_count": 48,
   "metadata": {},
   "outputs": [],
   "source": [
    "#drop these features when correlation more than 0.85\n",
    "X_train.drop(corr_features,axis=1,inplace=True)\n",
    "X_test.drop(corr_features,axis=1,inplace=True)"
   ]
  },
  {
   "cell_type": "code",
   "execution_count": 49,
   "metadata": {},
   "outputs": [
    {
     "data": {
      "text/plain": [
       "((181, 9), (61, 9))"
      ]
     },
     "execution_count": 49,
     "metadata": {},
     "output_type": "execute_result"
    }
   ],
   "source": [
    "X_train.shape,X_test.shape"
   ]
  },
  {
   "cell_type": "code",
   "execution_count": 50,
   "metadata": {},
   "outputs": [],
   "source": [
    "##Feature Scaling or Standardization\n",
    "from sklearn.preprocessing import StandardScaler\n",
    "\n",
    "scalar = StandardScaler()\n",
    "\n",
    "X_train_scaled = scalar.fit_transform(X_train)\n",
    "X_test_scaled = scalar.transform(X_test)\n"
   ]
  },
  {
   "cell_type": "code",
   "execution_count": 51,
   "metadata": {},
   "outputs": [
    {
     "data": {
      "text/plain": [
       "<Axes: >"
      ]
     },
     "execution_count": 51,
     "metadata": {},
     "output_type": "execute_result"
    },
    {
     "data": {
      "image/png": "[encoded data removed]",
      "text/plain": [
       "<Figure size 640x480 with 1 Axes>"
      ]
     },
     "metadata": {},
     "output_type": "display_data"
    }
   ],
   "source": [
    "## Box plots to understand Effects of Scalar\n",
    "sns.boxplot(X_train)\n"
   ]
  },
  {
   "cell_type": "code",
   "execution_count": 52,
   "metadata": {},
   "outputs": [
    {
     "data": {
      "text/plain": [
       "<Axes: >"
      ]
     },
     "execution_count": 52,
     "metadata": {},
     "output_type": "execute_result"
    },
    {
     "data": {
      "image/png": "[encoded data removed]",
      "text/plain": [
       "<Figure size 640x480 with 1 Axes>"
      ]
     },
     "metadata": {},
     "output_type": "display_data"
    }
   ],
   "source": [
    "sns.boxplot(X_train_scaled)"
   ]
  },
  {
   "cell_type": "code",
   "execution_count": 53,
   "metadata": {},
   "outputs": [
    {
     "data": {
      "text/plain": [
       "<matplotlib.collections.PathCollection at 0x24b752abc40>"
      ]
     },
     "execution_count": 53,
     "metadata": {},
     "output_type": "execute_result"
    },
    {
     "data": {
      "image/png": "[encoded data removed]",
      "text/plain": [
       "<Figure size 640x480 with 1 Axes>"
      ]
     },
     "metadata": {},
     "output_type": "display_data"
    }
   ],
   "source": [
    "from sklearn.linear_model import LinearRegression\n",
    "from sklearn.metrics import mean_absolute_error\n",
    "from sklearn.metrics import r2_score\n",
    "linreg = LinearRegression()\n",
    "linreg.fit(X_train_scaled,y_train)\n",
    "y_pred = linreg.predict(X_test_scaled)\n",
    "mae = mean_absolute_error(y_test,y_pred)\n",
    "score = r2_score(y_test,y_pred)\n",
    "plt.scatter(y_test,y_pred)"
   ]
  },
  {
   "cell_type": "code",
   "execution_count": 54,
   "metadata": {},
   "outputs": [
    {
     "name": "stdout",
     "output_type": "stream",
     "text": [
      "Mean Absolute Error 1.2887226168562769\n",
      "R2 Score 0.9445798376194435\n"
     ]
    },
    {
     "data": {
      "text/plain": [
       "<matplotlib.collections.PathCollection at 0x24b75335f30>"
      ]
     },
     "execution_count": 54,
     "metadata": {},
     "output_type": "execute_result"
    },
    {
     "data": {
      "image/png": "[encoded data removed]",
      "text/plain": [
       "<Figure size 640x480 with 1 Axes>"
      ]
     },
     "metadata": {},
     "output_type": "display_data"
    }
   ],
   "source": [
    "##Lasso\n",
    "from sklearn.linear_model import Lasso\n",
    "from sklearn.metrics import mean_absolute_error\n",
    "from sklearn.metrics import r2_score\n",
    "linreg = Lasso()\n",
    "linreg.fit(X_train_scaled,y_train)\n",
    "y_pred = linreg.predict(X_test_scaled)\n",
    "mae = mean_absolute_error(y_test,y_pred)\n",
    "score = r2_score(y_test,y_pred)\n",
    "print(\"Mean Absolute Error\",mae)\n",
    "print(\"R2 Score\",score)\n",
    "plt.scatter(y_test,y_pred)\n"
   ]
  },
  {
   "cell_type": "code",
   "execution_count": 55,
   "metadata": {},
   "outputs": [
    {
     "name": "stdout",
     "output_type": "stream",
     "text": [
      "Mean Absolute Error 0.6412056929056867\n",
      "R2 Score 0.983186187435969\n"
     ]
    },
    {
     "data": {
      "text/plain": [
       "<matplotlib.collections.PathCollection at 0x24b767d5cc0>"
      ]
     },
     "execution_count": 55,
     "metadata": {},
     "output_type": "execute_result"
    },
    {
     "data": {
      "image/png": "[encoded data removed]",
      "text/plain": [
       "<Figure size 640x480 with 1 Axes>"
      ]
     },
     "metadata": {},
     "output_type": "display_data"
    }
   ],
   "source": [
    "##Ridge\n",
    "from sklearn.linear_model import Ridge\n",
    "from sklearn.metrics import mean_absolute_error\n",
    "from sklearn.metrics import r2_score\n",
    "linreg = Ridge()\n",
    "linreg.fit(X_train_scaled,y_train)\n",
    "y_pred = linreg.predict(X_test_scaled)\n",
    "mae = mean_absolute_error(y_test,y_pred)\n",
    "score = r2_score(y_test,y_pred)\n",
    "print(\"Mean Absolute Error\",mae)\n",
    "print(\"R2 Score\",score)\n",
    "plt.scatter(y_test,y_pred)"
   ]
  },
  {
   "cell_type": "code",
   "execution_count": 56,
   "metadata": {},
   "outputs": [
    {
     "name": "stdout",
     "output_type": "stream",
     "text": [
      "Mean Absolute Error 1.914281057226335\n",
      "R2 Score 0.8715431586688767\n"
     ]
    },
    {
     "data": {
      "text/plain": [
       "<matplotlib.collections.PathCollection at 0x24b768517e0>"
      ]
     },
     "execution_count": 56,
     "metadata": {},
     "output_type": "execute_result"
    },
    {
     "data": {
      "image/png": "[encoded data removed]",
      "text/plain": [
       "<Figure size 640x480 with 1 Axes>"
      ]
     },
     "metadata": {},
     "output_type": "display_data"
    }
   ],
   "source": [
    "#Elastic Net\n",
    "from sklearn.linear_model import ElasticNet\n",
    "from sklearn.metrics import mean_absolute_error\n",
    "from sklearn.metrics import r2_score\n",
    "linreg = ElasticNet()\n",
    "linreg.fit(X_train_scaled,y_train)\n",
    "y_pred = linreg.predict(X_test_scaled)\n",
    "mae = mean_absolute_error(y_test,y_pred)\n",
    "score = r2_score(y_test,y_pred)\n",
    "print(\"Mean Absolute Error\",mae)\n",
    "print(\"R2 Score\",score)\n",
    "plt.scatter(y_test,y_pred)"
   ]
  },
  {
   "cell_type": "markdown",
   "metadata": {},
   "source": [
    "### Cross Validation Lasso"
   ]
  },
  {
   "cell_type": "code",
   "execution_count": 57,
   "metadata": {},
   "outputs": [],
   "source": [
    "from sklearn.linear_model import LassoCV\n",
    "lassocv = LassoCV(cv=5)\n",
    "lassocv.fit(X_train_scaled,y_train)\n",
    "y_pred_lasso = lassocv.predict(X_test_scaled)"
   ]
  },
  {
   "cell_type": "code",
   "execution_count": 58,
   "metadata": {},
   "outputs": [],
   "source": [
    "import pickle\n",
    "\n",
    "pickle.dump(lassocv,open('lasso.pkl','wb'))"
   ]
  },
  {
   "cell_type": "code",
   "execution_count": 59,
   "metadata": {},
   "outputs": [
    {
     "data": {
      "text/plain": [
       "array([[66.28153346, 51.92467509, 62.12574845, 42.17600161, 50.12909211],\n",
       "       [64.8049882 , 46.29145842, 57.51594369, 38.03926996, 44.45742325],\n",
       "       [57.52786787, 40.97016485, 51.64861789, 34.05559686, 38.81069162],\n",
       "       [50.23915116, 35.76647299, 46.09838034, 29.92201048, 33.9009598 ],\n",
       "       [43.9387138 , 31.24312424, 40.4293405 , 26.31573515, 29.63202239],\n",
       "       [38.49512644, 27.31124881, 35.48647158, 23.16852883, 25.92020481],\n",
       "       [33.79444563, 23.89345567, 31.17664741, 20.42176627, 22.69310889],\n",
       "       [29.73757581, 20.92303278, 27.41788947, 18.02371058, 19.88739726],\n",
       "       [26.23845112, 18.3413782 , 24.13911443, 15.92955296, 17.44796158],\n",
       "       [23.22260403, 16.0977285 , 21.27809933, 14.10027996, 15.32733573],\n",
       "       [20.62515952, 14.14794083, 18.78173444, 12.50167668, 13.48377645],\n",
       "       [18.38989583, 12.45342465, 16.60273789, 11.10468342, 11.88113796],\n",
       "       [16.46791311, 10.98124001, 14.70029663,  9.88325718, 10.48798649],\n",
       "       [14.81713492,  9.70212659, 13.03887844,  8.8149608 ,  9.27698614],\n",
       "       [13.4007272 ,  8.59084771, 11.58754621,  7.8802508 ,  8.22426389],\n",
       "       [12.18685841,  7.62545992, 10.31936168,  7.06210215,  7.30936839],\n",
       "       [11.14793111,  6.78688354,  9.21055207,  6.34568212,  6.5141998 ],\n",
       "       [10.26002444,  6.05852924,  8.24135407,  5.71787623,  5.82312561],\n",
       "       [ 9.50226668,  5.42581609,  7.39361843,  5.16782749,  5.2225522 ],\n",
       "       [ 8.8569971 ,  4.87653985,  6.65184602,  4.68550079,  4.70065887],\n",
       "       [ 8.30850953,  4.39961601,  6.00253528,  4.26233924,  4.24716681],\n",
       "       [ 7.84333947,  3.98556581,  5.43392303,  3.89088308,  3.85310719],\n",
       "       [ 7.44983428,  3.62614909,  4.93575935,  3.56462759,  3.51078159],\n",
       "       [ 7.11791308,  3.3142024 ,  4.49911181,  3.27789978,  3.21338786],\n",
       "       [ 6.83885829,  3.04349853,  4.116195  ,  3.02575112,  2.95505034],\n",
       "       [ 6.60496955,  2.80862436,  3.77999367,  2.80386417,  2.73066031],\n",
       "       [ 6.41007872,  2.60477696,  3.48507302,  2.60836524,  2.53577595],\n",
       "       [ 6.2483878 ,  2.42807614,  3.22601773,  2.43619241,  2.36653533],\n",
       "       [ 6.11504517,  2.27485359,  2.9983273 ,  2.28435218,  2.21958083],\n",
       "       [ 6.00586725,  2.14201968,  2.79807667,  2.15033684,  2.09199331],\n",
       "       [ 5.91724849,  2.0268897 ,  2.62184118,  2.03195627,  1.98127862],\n",
       "       [ 5.84608383,  1.92713058,  2.46663221,  1.92729673,  1.88514621],\n",
       "       [ 5.78970145,  1.84071498,  2.32984098,  1.83468551,  1.80171763],\n",
       "       [ 5.74562343,  1.76588132,  2.20918978,  1.75266004,  1.72932615],\n",
       "       [ 5.71225024,  1.70109905,  2.10268938,  1.67994104,  1.66652269],\n",
       "       [ 5.68769783,  1.64503847,  2.0084408 ,  1.61540919,  1.61204769],\n",
       "       [ 5.67051448,  1.59650959,  1.9252633 ,  1.55804006,  1.56480636],\n",
       "       [ 5.65945924,  1.55458517,  1.8516526 ,  1.50707172,  1.52384721],\n",
       "       [ 5.65347175,  1.51835176,  1.78644684,  1.46170042,  1.48834327],\n",
       "       [ 5.65164742,  1.48705228,  1.72863099,  1.42126694,  1.45766879],\n",
       "       [ 5.65321597,  1.46002962,  1.67731687,  1.38519363,  1.4310118 ],\n",
       "       [ 5.65752283,  1.43671325,  1.63172695,  1.35297365,  1.40792264],\n",
       "       [ 5.66382521,  1.41660783,  1.59118032,  1.32416207,  1.38793124],\n",
       "       [ 5.67203929,  1.39928342,  1.55508039,  1.29836806,  1.37062803],\n",
       "       [ 5.68157393,  1.38436685,  1.52290423,  1.27524814,  1.35565719],\n",
       "       [ 5.69209342,  1.3715343 ,  1.49419321,  1.25450022,  1.34270962],\n",
       "       [ 5.70331938,  1.35711606,  1.45854441,  1.23584732,  1.33151687],\n",
       "       [ 5.71501983,  1.33468425,  1.42488299,  1.21908035,  1.32184574],\n",
       "       [ 5.71462405,  1.31499079,  1.39605354,  1.18574211,  1.30080873],\n",
       "       [ 5.70861534,  1.29767784,  1.37137117,  1.15580269,  1.2774371 ],\n",
       "       [ 5.70490815,  1.28245278,  1.35046833,  1.12942818,  1.25637544],\n",
       "       [ 5.70306678,  1.26905499,  1.33272162,  1.10617577,  1.2378563 ],\n",
       "       [ 5.71922683,  1.25725697,  1.31769   ,  1.0856592 ,  1.22176286],\n",
       "       [ 5.74760588,  1.24686015,  1.30499262,  1.06754186,  1.20744364],\n",
       "       [ 5.77843817,  1.23769114,  1.29430007,  1.05152965,  1.19454239],\n",
       "       [ 5.81086266,  1.22959854,  1.28424266,  1.03736556,  1.18251897],\n",
       "       [ 5.84429412,  1.2224501 ,  1.27505418,  1.02482486,  1.15898923],\n",
       "       [ 5.87824888,  1.21493564,  1.26734806,  1.00171565,  1.13878385],\n",
       "       [ 5.91233003,  1.20695123,  1.26091402,  0.96884715,  1.12128222],\n",
       "       [ 5.94589707,  1.19981393,  1.25222643,  0.94069223,  1.10651071],\n",
       "       [ 5.97934256,  1.19344059,  1.22521723,  0.91647377,  1.09389929],\n",
       "       [ 6.01659048,  1.18774323,  1.19288691,  0.89554811,  1.08294465],\n",
       "       [ 6.05631985,  1.16794826,  1.16272411,  0.87769009,  1.07382605],\n",
       "       [ 6.09131943,  1.12713817,  1.13602092,  0.86237798,  1.06803377],\n",
       "       [ 6.11448481,  1.08464898,  1.11234156,  0.84926581,  1.06458152],\n",
       "       [ 6.13799507,  1.04684694,  1.09132306,  0.83805319,  1.06219651],\n",
       "       [ 6.16129464,  1.01301223,  1.07264737,  0.82847979,  1.0606985 ],\n",
       "       [ 6.18355508,  0.98269131,  1.05605434,  0.82022157,  1.05993318],\n",
       "       [ 6.20479861,  0.95548682,  1.04125972,  0.81328492,  1.05970488],\n",
       "       [ 6.22574573,  0.93104897,  1.02807297,  0.80739765,  1.06003131],\n",
       "       [ 6.24657027,  0.90913912,  1.01630506,  0.80241286,  1.0625092 ],\n",
       "       [ 6.26494508,  0.88933246,  1.00579136,  0.79820391,  1.06597254],\n",
       "       [ 6.28309554,  0.87148252,  0.99641604,  0.79496636,  1.06965784],\n",
       "       [ 6.29960612,  0.85536968,  0.98825135,  0.79390288,  1.07346178],\n",
       "       [ 6.31516369,  0.84025945,  0.98148011,  0.79459097,  1.07719557],\n",
       "       [ 6.32987769,  0.82656995,  0.97560472,  0.79563005,  1.08108592],\n",
       "       [ 6.34377809,  0.81435491,  0.97048148,  0.79695018,  1.08495682],\n",
       "       [ 6.35747201,  0.80335075,  0.96661251,  0.79841145,  1.08864443],\n",
       "       [ 6.36991164,  0.7934814 ,  0.96455607,  0.80011621,  1.09239524],\n",
       "       [ 6.38154409,  0.78459421,  0.96302863,  0.80184315,  1.09605484],\n",
       "       [ 6.3921669 ,  0.77658411,  0.96186766,  0.80374825,  1.09978518],\n",
       "       [ 6.40269444,  0.76936762,  0.96112544,  0.80569761,  1.1037552 ],\n",
       "       [ 6.41223701,  0.76285995,  0.96060718,  0.80756358,  1.10757176],\n",
       "       [ 6.42110183,  0.7569477 ,  0.96040634,  0.80954147,  1.11111834],\n",
       "       [ 6.42942188,  0.75146142,  0.96040804,  0.81122376,  1.11460399],\n",
       "       [ 6.43760096,  0.74625052,  0.96048989,  0.81322637,  1.11783682],\n",
       "       [ 6.4450439 ,  0.74159224,  0.96078259,  0.8149424 ,  1.12099387],\n",
       "       [ 6.45189419,  0.73741323,  0.96118319,  0.81645001,  1.12400605],\n",
       "       [ 6.45830415,  0.73365174,  0.96157546,  0.81802834,  1.12679075],\n",
       "       [ 6.46455507,  0.73030901,  0.96211271,  0.81944541,  1.12935627],\n",
       "       [ 6.47034004,  0.72733593,  0.96270291,  0.82093271,  1.1317378 ],\n",
       "       [ 6.47560765,  0.72466946,  0.9632318 ,  0.82237103,  1.13401913],\n",
       "       [ 6.480515  ,  0.72227734,  0.96386365,  0.82375235,  1.13617484],\n",
       "       [ 6.48523193,  0.72014168,  0.96451939,  0.82496123,  1.1381756 ],\n",
       "       [ 6.48972336,  0.71822519,  0.96517833,  0.82622425,  1.14006314],\n",
       "       [ 6.49377129,  0.71650301,  0.9658335 ,  0.82743878,  1.14187234],\n",
       "       [ 6.49751338,  0.71494913,  0.96639527,  0.82859404,  1.14358019],\n",
       "       [ 6.50102056,  0.71354158,  0.9670145 ,  0.82969161,  1.14518737],\n",
       "       [ 6.5045038 ,  0.71228188,  0.96763594,  0.83063076,  1.14668509],\n",
       "       [ 6.50762992,  0.71114536,  0.96824059,  0.8317094 ,  1.14806916]])"
      ]
     },
     "execution_count": 59,
     "metadata": {},
     "output_type": "execute_result"
    }
   ],
   "source": [
    "lassocv.mse_path_"
   ]
  },
  {
   "cell_type": "code",
   "execution_count": 60,
   "metadata": {},
   "outputs": [
    {
     "data": {
      "text/plain": [
       "0.03887879362493651"
      ]
     },
     "execution_count": 60,
     "metadata": {},
     "output_type": "execute_result"
    }
   ],
   "source": [
    "lassocv.alpha_"
   ]
  },
  {
   "cell_type": "code",
   "execution_count": 61,
   "metadata": {},
   "outputs": [
    {
     "data": {
      "text/plain": [
       "<matplotlib.collections.PathCollection at 0x24b75178640>"
      ]
     },
     "execution_count": 61,
     "metadata": {},
     "output_type": "execute_result"
    },
    {
     "data": {
      "image/png": "[encoded data removed]",
      "text/plain": [
       "<Figure size 640x480 with 1 Axes>"
      ]
     },
     "metadata": {},
     "output_type": "display_data"
    }
   ],
   "source": [
    "plt.scatter(y_test,y_pred_lasso)"
   ]
  },
  {
   "cell_type": "code",
   "execution_count": 62,
   "metadata": {},
   "outputs": [
    {
     "name": "stdout",
     "output_type": "stream",
     "text": [
      "0.6412056929056867 0.983186187435969\n"
     ]
    }
   ],
   "source": [
    "## Ridge CV\n",
    "from sklearn.linear_model import RidgeCV\n",
    "ridgecv = RidgeCV(cv=5)\n",
    "ridgecv.fit(X_train_scaled,y_train)\n",
    "y_pred_ridge = ridgecv.predict(X_test_scaled)\n",
    "mae = mean_absolute_error(y_test,y_pred_ridge)\n",
    "score = r2_score(y_test,y_pred_ridge)\n",
    "print(mae,score)"
   ]
  },
  {
   "cell_type": "code",
   "execution_count": 63,
   "metadata": {},
   "outputs": [],
   "source": [
    "pickle.dump(ridgecv,open('ridge.pkl','wb'))"
   ]
  },
  {
   "cell_type": "code",
   "execution_count": 64,
   "metadata": {},
   "outputs": [
    {
     "name": "stdout",
     "output_type": "stream",
     "text": [
      "0.6797581746740939 0.9813189087634552\n"
     ]
    }
   ],
   "source": [
    "from sklearn.linear_model import ElasticNetCV\n",
    "elasticv = ElasticNetCV(cv=5)\n",
    "elasticv.fit(X_train_scaled,y_train)\n",
    "y_pred_elastic = elasticv.predict(X_test_scaled)\n",
    "mae = mean_absolute_error(y_test,y_pred_elastic)\n",
    "score = r2_score(y_test,y_pred_elastic)\n",
    "print(mae,score)"
   ]
  },
  {
   "cell_type": "code",
   "execution_count": 65,
   "metadata": {},
   "outputs": [
    {
     "data": {
      "text/html": [
       "<div>\n",
       "<style scoped>\n",
       "    .dataframe tbody tr th:only-of-type {\n",
       "        vertical-align: middle;\n",
       "    }\n",
       "\n",
       "    .dataframe tbody tr th {\n",
       "        vertical-align: top;\n",
       "    }\n",
       "\n",
       "    .dataframe thead th {\n",
       "        text-align: right;\n",
       "    }\n",
       "</style>\n",
       "<table border=\"1\" class=\"dataframe\">\n",
       "  <thead>\n",
       "    <tr style=\"text-align: right;\">\n",
       "      <th></th>\n",
       "      <th>Temperature</th>\n",
       "      <th>RH</th>\n",
       "      <th>Ws</th>\n",
       "      <th>Rain</th>\n",
       "      <th>FFMC</th>\n",
       "      <th>DMC</th>\n",
       "      <th>DC</th>\n",
       "      <th>ISI</th>\n",
       "      <th>BUI</th>\n",
       "      <th>FWI</th>\n",
       "      <th>Classes</th>\n",
       "      <th>Region</th>\n",
       "    </tr>\n",
       "  </thead>\n",
       "  <tbody>\n",
       "    <tr>\n",
       "      <th>0</th>\n",
       "      <td>29</td>\n",
       "      <td>57</td>\n",
       "      <td>18</td>\n",
       "      <td>0.0</td>\n",
       "      <td>65.7</td>\n",
       "      <td>3.4</td>\n",
       "      <td>7.6</td>\n",
       "      <td>1.3</td>\n",
       "      <td>3.4</td>\n",
       "      <td>0.5</td>\n",
       "      <td>0</td>\n",
       "      <td>0.0</td>\n",
       "    </tr>\n",
       "    <tr>\n",
       "      <th>1</th>\n",
       "      <td>29</td>\n",
       "      <td>61</td>\n",
       "      <td>13</td>\n",
       "      <td>1.3</td>\n",
       "      <td>64.4</td>\n",
       "      <td>4.1</td>\n",
       "      <td>7.6</td>\n",
       "      <td>1.0</td>\n",
       "      <td>3.9</td>\n",
       "      <td>0.4</td>\n",
       "      <td>0</td>\n",
       "      <td>0.0</td>\n",
       "    </tr>\n",
       "    <tr>\n",
       "      <th>2</th>\n",
       "      <td>26</td>\n",
       "      <td>82</td>\n",
       "      <td>22</td>\n",
       "      <td>13.1</td>\n",
       "      <td>47.1</td>\n",
       "      <td>2.5</td>\n",
       "      <td>7.1</td>\n",
       "      <td>0.3</td>\n",
       "      <td>2.7</td>\n",
       "      <td>0.1</td>\n",
       "      <td>0</td>\n",
       "      <td>0.0</td>\n",
       "    </tr>\n",
       "    <tr>\n",
       "      <th>3</th>\n",
       "      <td>25</td>\n",
       "      <td>89</td>\n",
       "      <td>13</td>\n",
       "      <td>2.5</td>\n",
       "      <td>28.6</td>\n",
       "      <td>1.3</td>\n",
       "      <td>6.9</td>\n",
       "      <td>0.0</td>\n",
       "      <td>1.7</td>\n",
       "      <td>0.0</td>\n",
       "      <td>0</td>\n",
       "      <td>0.0</td>\n",
       "    </tr>\n",
       "    <tr>\n",
       "      <th>4</th>\n",
       "      <td>27</td>\n",
       "      <td>77</td>\n",
       "      <td>16</td>\n",
       "      <td>0.0</td>\n",
       "      <td>64.8</td>\n",
       "      <td>3.0</td>\n",
       "      <td>14.2</td>\n",
       "      <td>1.2</td>\n",
       "      <td>3.9</td>\n",
       "      <td>0.5</td>\n",
       "      <td>0</td>\n",
       "      <td>0.0</td>\n",
       "    </tr>\n",
       "  </tbody>\n",
       "</table>\n",
       "</div>"
      ],
      "text/plain": [
       "   Temperature  RH  Ws  Rain  FFMC  DMC    DC  ISI  BUI  FWI  Classes  Region\n",
       "0           29  57  18   0.0  65.7  3.4   7.6  1.3  3.4  0.5        0     0.0\n",
       "1           29  61  13   1.3  64.4  4.1   7.6  1.0  3.9  0.4        0     0.0\n",
       "2           26  82  22  13.1  47.1  2.5   7.1  0.3  2.7  0.1        0     0.0\n",
       "3           25  89  13   2.5  28.6  1.3   6.9  0.0  1.7  0.0        0     0.0\n",
       "4           27  77  16   0.0  64.8  3.0  14.2  1.2  3.9  0.5        0     0.0"
      ]
     },
     "execution_count": 65,
     "metadata": {},
     "output_type": "execute_result"
    }
   ],
   "source": [
    "df.head()"
   ]
  },
  {
   "cell_type": "code",
   "execution_count": null,
   "metadata": {},
   "outputs": [],
   "source": [
    "\n"
   ]
  },
  {
   "cell_type": "code",
   "execution_count": null,
   "metadata": {},
   "outputs": [],
   "source": []
  }
 ],
 "metadata": {
  "kernelspec": {
   "display_name": "pavan",
   "language": "python",
   "name": "python3"
  },
  "language_info": {
   "codemirror_mode": {
    "name": "ipython",
    "version": 3
   },
   "file_extension": ".py",
   "mimetype": "text/x-python",
   "name": "python",
   "nbconvert_exporter": "python",
   "pygments_lexer": "ipython3",
   "version": "3.10.14"
  }
 },
 "nbformat": 4,
 "nbformat_minor": 2
}
